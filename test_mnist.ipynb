{
 "cells": [
  {
   "cell_type": "code",
   "execution_count": 1,
   "metadata": {},
   "outputs": [],
   "source": [
    "from network import *\n",
    "from linear_layer import *\n",
    "from activation_layer import *\n",
    "from activation_functions import *\n",
    "from loss import *\n",
    "\n",
    "import matplotlib.pyplot as plt\n",
    "%matplotlib inline\n",
    "from keras.datasets import mnist\n",
    "from keras.utils import np_utils"
   ]
  },
  {
   "cell_type": "code",
   "execution_count": 2,
   "metadata": {},
   "outputs": [],
   "source": [
    "# load data\n",
    "(x_train, y_train), (x_test, y_test) = mnist.load_data()"
   ]
  },
  {
   "cell_type": "code",
   "execution_count": 3,
   "metadata": {},
   "outputs": [
    {
     "data": {
      "image/png": "[encoded data removed]",
      "text/plain": [
       "<Figure size 640x480 with 1 Axes>"
      ]
     },
     "metadata": {},
     "output_type": "display_data"
    }
   ],
   "source": [
    "plt.imshow(x_train[50903], cmap='gray')\n",
    "plt.show()"
   ]
  },
  {
   "cell_type": "code",
   "execution_count": 4,
   "metadata": {},
   "outputs": [],
   "source": [
    "# flatten and normalize training inputs\n",
    "x_train = x_train.reshape(x_train.shape[0], 1, 28 * 28)\n",
    "x_train = x_train.astype(\"float32\")\n",
    "x_train /= 255\n",
    "# make one-hot vectors for training outputs\n",
    "y_train = np_utils.to_categorical(y_train)\n",
    "\n",
    "# flatten and normalize testing inputs\n",
    "x_test = x_test.reshape(x_test.shape[0], 1, 28 * 28)\n",
    "x_test = x_test.astype(\"float32\")\n",
    "x_test /= 255\n",
    "# make one-hot vectors for testing outputs\n",
    "y_test = np_utils.to_categorical(y_test)"
   ]
  },
  {
   "cell_type": "code",
   "execution_count": 5,
   "metadata": {},
   "outputs": [],
   "source": [
    "# network architecture\n",
    "net = Network()\n",
    "net.add_layer(LinearLayer(28 * 28, 100))\n",
    "net.add_layer(ActivationLayer(sigmoid))\n",
    "net.add_layer(LinearLayer(100, 50))\n",
    "net.add_layer(ActivationLayer(sigmoid))\n",
    "net.add_layer(LinearLayer(50, 10))\n",
    "net.add_layer(ActivationLayer(sigmoid))\n",
    "net.set_loss_function(ce)"
   ]
  },
  {
   "cell_type": "code",
   "execution_count": 6,
   "metadata": {},
   "outputs": [
    {
     "name": "stdout",
     "output_type": "stream",
     "text": [
      "Epoch 1/1: mini batch 1 done\n",
      "Epoch 1/1: mini batch 2 done\n",
      "Epoch 1/1: mini batch 3 done\n",
      "Epoch 1/1: mini batch 4 done\n",
      "Epoch 1/1: mini batch 5 done\n",
      "Epoch 1/1: mini batch 6 done\n",
      "Epoch 1/1: mini batch 7 done\n",
      "Epoch 1/1: mini batch 8 done\n",
      "Epoch 1/1: mini batch 9 done\n",
      "Epoch 1/1: mini batch 10 done\n",
      "Epoch 1/1: mini batch 11 done\n",
      "Epoch 1/1: mini batch 12 done\n",
      "Epoch 1/1: mini batch 13 done\n",
      "Epoch 1/1: mini batch 14 done\n",
      "Epoch 1/1: mini batch 15 done\n",
      "Epoch 1/1: mini batch 16 done\n",
      "Epoch 1/1: mini batch 17 done\n",
      "Epoch 1/1: mini batch 18 done\n",
      "Epoch 1/1: mini batch 19 done\n",
      "Epoch 1/1: mini batch 20 done\n",
      "Epoch 1/1: mini batch 21 done\n",
      "Epoch 1/1: mini batch 22 done\n",
      "Epoch 1/1: mini batch 23 done\n",
      "Epoch 1/1: mini batch 24 done\n",
      "Epoch 1/1: mini batch 25 done\n",
      "Epoch 1/1: mini batch 26 done\n",
      "Epoch 1/1: mini batch 27 done\n",
      "Epoch 1/1: mini batch 28 done\n",
      "Epoch 1/1: mini batch 29 done\n",
      "Epoch 1/1: mini batch 30 done\n",
      "Epoch 1/1: mini batch 31 done\n",
      "Epoch 1/1: mini batch 32 done\n",
      "Epoch 1/1: mini batch 33 done\n",
      "Epoch 1/1: mini batch 34 done\n",
      "Epoch 1/1: mini batch 35 done\n",
      "Epoch 1/1: mini batch 36 done\n",
      "Epoch 1/1: mini batch 37 done\n",
      "Epoch 1/1: mini batch 38 done\n",
      "Epoch 1/1: mini batch 39 done\n",
      "Epoch 1/1: mini batch 40 done\n",
      "Epoch 1/1: mini batch 41 done\n",
      "Epoch 1/1: mini batch 42 done\n",
      "Epoch 1/1: mini batch 43 done\n",
      "Epoch 1/1: mini batch 44 done\n",
      "Epoch 1/1: mini batch 45 done\n",
      "Epoch 1/1: mini batch 46 done\n",
      "Epoch 1/1: mini batch 47 done\n",
      "Epoch 1/1: mini batch 48 done\n",
      "Epoch 1/1: mini batch 49 done\n",
      "Epoch 1/1: mini batch 50 done\n",
      "Epoch 1/1: mini batch 51 done\n",
      "Epoch 1/1: mini batch 52 done\n",
      "Epoch 1/1: mini batch 53 done\n",
      "Epoch 1/1: mini batch 54 done\n",
      "Epoch 1/1: mini batch 55 done\n",
      "Epoch 1/1: mini batch 56 done\n",
      "Epoch 1/1: mini batch 57 done\n",
      "Epoch 1/1: mini batch 58 done\n",
      "Epoch 1/1: mini batch 59 done\n",
      "Epoch 1/1: mini batch 60 done\n",
      "Epoch 1/1: mini batch 61 done\n",
      "Epoch 1/1: Error = 0.06765524289360697\n"
     ]
    }
   ],
   "source": [
    "net.train(x_train, y_train, 0.1, 1, 1000, verbose=True)"
   ]
  },
  {
   "cell_type": "code",
   "execution_count": 7,
   "metadata": {},
   "outputs": [
    {
     "name": "stdout",
     "output_type": "stream",
     "text": [
      "Error: 0.054297598316804134\n",
      "Accuracy: 0.9188\n",
      "\n"
     ]
    }
   ],
   "source": [
    "net.predict(x_test, Y_test=y_test, loss=True, one_hot_acc=True)\n",
    "print()"
   ]
  }
 ],
 "metadata": {
  "@webio": {
   "lastCommId": null,
   "lastKernelId": null
  },
  "kernelspec": {
   "display_name": "Python 3 (ipykernel)",
   "language": "python",
   "name": "python3"
  },
  "language_info": {
   "codemirror_mode": {
    "name": "ipython",
    "version": 3
   },
   "file_extension": ".py",
   "mimetype": "text/x-python",
   "name": "python",
   "nbconvert_exporter": "python",
   "pygments_lexer": "ipython3",
   "version": "3.10.9"
  },
  "vscode": {
   "interpreter": {
    "hash": "b0fa6594d8f4cbf19f97940f81e996739fb7646882a419484c72d19e05852a7e"
   }
  }
 },
 "nbformat": 4,
 "nbformat_minor": 2
}
